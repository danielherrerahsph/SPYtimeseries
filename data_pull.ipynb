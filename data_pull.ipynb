{
 "cells": [
  {
   "attachments": {},
   "cell_type": "markdown",
   "metadata": {},
   "source": [
    "# Introduction to ARMA Models with Financial Data"
   ]
  },
  {
   "cell_type": "code",
   "execution_count": 21,
   "metadata": {},
   "outputs": [],
   "source": [
    "import yfinance as yf\n",
    "import pandas as pd"
   ]
  },
  {
   "attachments": {},
   "cell_type": "markdown",
   "metadata": {},
   "source": [
    "We can use the yfinance package in python which uses Yahoo's publicly available API to pull data. We will pull the data for the S&P 500 using the ticker $SPY. We do this by creating a ticker object for spy. Once we have our ticker object (spy) we can access methods or attributes of the object such as history. The history method will allow us to pull historical data by defining some parameters including: \n",
    "\n",
    "- period: \"1d”, “5d”, “1mo”, “3mo”, “6mo”, “1y”, “2y”, “5y”, “10y”, “ytd”, “max”\n",
    "- interval: “1m”, “2m”, “5m”, “15m”, “30m”, “60m”, “90m”, “1h”, “1d”, “5d”, “1wk”, “1mo”, “3mo”\n",
    "- start: formatted as (yyyy-mm-dd) or datetime.\n",
    "- end: formatted as (yyyy-mm-dd) or datetime.\n",
    "\n",
    "Below we use the period and interval to define how far back we want the data and at what intervals from that period to current we want the data. Otherwise, we could also define start and end instead of period. "
   ]
  },
  {
   "cell_type": "code",
   "execution_count": 20,
   "metadata": {},
   "outputs": [
    {
     "data": {
      "text/html": [
       "<div>\n",
       "<style scoped>\n",
       "    .dataframe tbody tr th:only-of-type {\n",
       "        vertical-align: middle;\n",
       "    }\n",
       "\n",
       "    .dataframe tbody tr th {\n",
       "        vertical-align: top;\n",
       "    }\n",
       "\n",
       "    .dataframe thead th {\n",
       "        text-align: right;\n",
       "    }\n",
       "</style>\n",
       "<table border=\"1\" class=\"dataframe\">\n",
       "  <thead>\n",
       "    <tr style=\"text-align: right;\">\n",
       "      <th></th>\n",
       "      <th>Open</th>\n",
       "      <th>High</th>\n",
       "      <th>Low</th>\n",
       "      <th>Close</th>\n",
       "      <th>Volume</th>\n",
       "      <th>Dividends</th>\n",
       "      <th>Stock Splits</th>\n",
       "      <th>Capital Gains</th>\n",
       "    </tr>\n",
       "    <tr>\n",
       "      <th>Date</th>\n",
       "      <th></th>\n",
       "      <th></th>\n",
       "      <th></th>\n",
       "      <th></th>\n",
       "      <th></th>\n",
       "      <th></th>\n",
       "      <th></th>\n",
       "      <th></th>\n",
       "    </tr>\n",
       "  </thead>\n",
       "  <tbody>\n",
       "    <tr>\n",
       "      <th>2022-03-25 00:00:00-04:00</th>\n",
       "      <td>443.643563</td>\n",
       "      <td>445.433248</td>\n",
       "      <td>440.959034</td>\n",
       "      <td>445.148071</td>\n",
       "      <td>77101300</td>\n",
       "      <td>0.0</td>\n",
       "      <td>0.0</td>\n",
       "      <td>0.0</td>\n",
       "    </tr>\n",
       "    <tr>\n",
       "      <th>2022-03-28 00:00:00-04:00</th>\n",
       "      <td>444.528589</td>\n",
       "      <td>448.314453</td>\n",
       "      <td>442.561909</td>\n",
       "      <td>448.314453</td>\n",
       "      <td>68529800</td>\n",
       "      <td>0.0</td>\n",
       "      <td>0.0</td>\n",
       "      <td>0.0</td>\n",
       "    </tr>\n",
       "    <tr>\n",
       "      <th>2022-03-29 00:00:00-04:00</th>\n",
       "      <td>452.355965</td>\n",
       "      <td>454.371830</td>\n",
       "      <td>449.563283</td>\n",
       "      <td>453.860474</td>\n",
       "      <td>86581500</td>\n",
       "      <td>0.0</td>\n",
       "      <td>0.0</td>\n",
       "      <td>0.0</td>\n",
       "    </tr>\n",
       "    <tr>\n",
       "      <th>2022-03-30 00:00:00-04:00</th>\n",
       "      <td>452.670645</td>\n",
       "      <td>453.516333</td>\n",
       "      <td>448.865125</td>\n",
       "      <td>451.057983</td>\n",
       "      <td>79666900</td>\n",
       "      <td>0.0</td>\n",
       "      <td>0.0</td>\n",
       "      <td>0.0</td>\n",
       "    </tr>\n",
       "    <tr>\n",
       "      <th>2022-03-31 00:00:00-04:00</th>\n",
       "      <td>450.261474</td>\n",
       "      <td>451.116975</td>\n",
       "      <td>443.643587</td>\n",
       "      <td>444.115601</td>\n",
       "      <td>121699900</td>\n",
       "      <td>0.0</td>\n",
       "      <td>0.0</td>\n",
       "      <td>0.0</td>\n",
       "    </tr>\n",
       "  </tbody>\n",
       "</table>\n",
       "</div>"
      ],
      "text/plain": [
       "                                 Open        High         Low       Close  \\\n",
       "Date                                                                        \n",
       "2022-03-25 00:00:00-04:00  443.643563  445.433248  440.959034  445.148071   \n",
       "2022-03-28 00:00:00-04:00  444.528589  448.314453  442.561909  448.314453   \n",
       "2022-03-29 00:00:00-04:00  452.355965  454.371830  449.563283  453.860474   \n",
       "2022-03-30 00:00:00-04:00  452.670645  453.516333  448.865125  451.057983   \n",
       "2022-03-31 00:00:00-04:00  450.261474  451.116975  443.643587  444.115601   \n",
       "\n",
       "                              Volume  Dividends  Stock Splits  Capital Gains  \n",
       "Date                                                                          \n",
       "2022-03-25 00:00:00-04:00   77101300        0.0           0.0            0.0  \n",
       "2022-03-28 00:00:00-04:00   68529800        0.0           0.0            0.0  \n",
       "2022-03-29 00:00:00-04:00   86581500        0.0           0.0            0.0  \n",
       "2022-03-30 00:00:00-04:00   79666900        0.0           0.0            0.0  \n",
       "2022-03-31 00:00:00-04:00  121699900        0.0           0.0            0.0  "
      ]
     },
     "execution_count": 20,
     "metadata": {},
     "output_type": "execute_result"
    }
   ],
   "source": [
    "spy = yf.Ticker(\"SPY\")\n",
    "hist = spy.history(period = \"1y\", interval= \"1d\")\n",
    "hist.head()"
   ]
  },
  {
   "attachments": {},
   "cell_type": "markdown",
   "metadata": {},
   "source": [
    "To begin any data analysis of time series data, it is useful to look at the trace plot, a historical plot of stock prices and time. "
   ]
  },
  {
   "cell_type": "code",
   "execution_count": 24,
   "metadata": {},
   "outputs": [
    {
     "data": {
      "text/plain": [
       "<bound method NDFrame.head of                                 Close\n",
       "Date                                 \n",
       "2022-03-25 00:00:00-04:00  445.148071\n",
       "2022-03-28 00:00:00-04:00  448.314453\n",
       "2022-03-29 00:00:00-04:00  453.860474\n",
       "2022-03-30 00:00:00-04:00  451.057983\n",
       "2022-03-31 00:00:00-04:00  444.115601\n",
       "...                               ...\n",
       "2023-03-20 00:00:00-04:00  393.739990\n",
       "2023-03-21 00:00:00-04:00  398.910004\n",
       "2023-03-22 00:00:00-04:00  392.109985\n",
       "2023-03-23 00:00:00-04:00  393.170013\n",
       "2023-03-24 00:00:00-04:00  395.750000\n",
       "\n",
       "[251 rows x 1 columns]>"
      ]
     },
     "execution_count": 24,
     "metadata": {},
     "output_type": "execute_result"
    }
   ],
   "source": [
    "# add trace plot\n",
    "df = pd.DataFrame(hist, columns=['Close'])\n",
    "df.head\n",
    "\n",
    "# df['date'] = pd.to_datetime(df['Year'].astype(str) + '-' + df['Month'].astype(str), format='%Y-%m')\n",
    "# df.set_index('date', inplace=True)\n",
    "# df.drop(['Year', 'Month'], axis=1, inplace=True)"
   ]
  },
  {
   "attachments": {},
   "cell_type": "markdown",
   "metadata": {},
   "source": [
    "## Stationarity"
   ]
  }
 ],
 "metadata": {
  "kernelspec": {
   "display_name": "base",
   "language": "python",
   "name": "python3"
  },
  "language_info": {
   "codemirror_mode": {
    "name": "ipython",
    "version": 3
   },
   "file_extension": ".py",
   "mimetype": "text/x-python",
   "name": "python",
   "nbconvert_exporter": "python",
   "pygments_lexer": "ipython3",
   "version": "3.9.12"
  },
  "orig_nbformat": 4
 },
 "nbformat": 4,
 "nbformat_minor": 2
}
