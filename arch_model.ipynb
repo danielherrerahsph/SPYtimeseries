{
 "cells": [
  {
   "cell_type": "code",
   "execution_count": 51,
   "metadata": {},
   "outputs": [],
   "source": [
    "import yfinance as yf\n",
    "import pandas as pd\n",
    "import matplotlib.pyplot as plt\n",
    "import pmdarima as pm\n",
    "import numpy as np\n",
    "from arch import arch_model\n",
    "\n",
    "from statsmodels.tsa.stattools import adfuller\n",
    "from statsmodels.graphics.tsaplots import plot_acf, plot_pacf\n",
    "from statsmodels.tsa.arima.model import ARIMA\n",
    "from pmdarima.model_selection import train_test_split\n",
    "from sklearn.metrics import mean_absolute_percentage_error, mean_squared_error"
   ]
  },
  {
   "attachments": {},
   "cell_type": "markdown",
   "metadata": {},
   "source": [
    "## Load Data\n",
    "\n",
    "We begin by loading the data from yfinance -- see the arma_model.ipynb for previous steps and details regarding loading stock data from yfinance in python. "
   ]
  },
  {
   "cell_type": "code",
   "execution_count": 15,
   "metadata": {},
   "outputs": [
    {
     "data": {
      "text/plain": [
       "<bound method NDFrame.head of                                 Close\n",
       "Date                                 \n",
       "2010-01-04 00:00:00-05:00   88.117912\n",
       "2010-01-05 00:00:00-05:00   88.351151\n",
       "2010-01-06 00:00:00-05:00   88.413368\n",
       "2010-01-07 00:00:00-05:00   88.786591\n",
       "2010-01-08 00:00:00-05:00   89.082047\n",
       "...                               ...\n",
       "2020-01-27 00:00:00-05:00  307.216400\n",
       "2020-01-28 00:00:00-05:00  310.435791\n",
       "2020-01-29 00:00:00-05:00  310.179352\n",
       "2020-01-30 00:00:00-05:00  311.186005\n",
       "2020-01-31 00:00:00-05:00  305.535461\n",
       "\n",
       "[2537 rows x 1 columns]>"
      ]
     },
     "execution_count": 15,
     "metadata": {},
     "output_type": "execute_result"
    }
   ],
   "source": [
    "spy = yf.Ticker(\"SPY\")\n",
    "# hist = spy.history(period = \"1y\", interval= \"1d\")\n",
    "hist = spy.history(start = \"2010-01-04\", end = \"2020-02-01\")\n",
    "df = pd.DataFrame(hist, columns=['Close'])\n",
    "df.head"
   ]
  },
  {
   "attachments": {},
   "cell_type": "markdown",
   "metadata": {},
   "source": [
    "## Background\n",
    "\n",
    "Previously, we concluded that the closing price of $SPY could be modeled adequately by a random walk model. The reasons for this will become inttuive once we take a brief but useful look at the efficient market hypothesis. \n",
    "\n",
    "### Efficient Market Hypothesis:\n",
    "\n",
    "The efficient market hypothesis states that the price of a stock is reflective of an efficient market - thus all information about the company is reflected in the current value of the stock. Thus, there can be no arbitrage, an essentially riskless or minimally riskless profit-taking based on market ineffiicencies leading to a difference of a current stock value and its actual value. While this view is controversial, it is at the basis of a lot of economic theory. It does imply that consistently beating the market is impossible based on information about the price of a security up until time *t*, because all information is available publically through time *t*. \n",
    "\n",
    "This can be mathematically expressed in the following way: \n",
    "\n",
    "$E[X_t|X_{t-1}, X_{t-2}, \\dots , X_{-\\infty}] = 0$\n",
    "\n",
    "where $X_t$ is the current asset price/return and we condition on all previous prices/returns $X_{-\\infty: t-1}$\n",
    "\n",
    "\n",
    "However, this should not be confused with implying that there is no way to make a profit. Recall, arbitrage reflects a riskless method to extract profit. However, there do exist investments which have considerably more risk and create opportunities for profit through risk. As a result, we can use the notion of risk and model adjacent terms such as volatitlity to make profits. \n",
    "\n",
    "### Volatility\n",
    "\n",
    "Volatility and risk are closely related terms in financial assets such as stocks. In the stock market, volatility refers to the amount and frequency of price fluctuations. Risk, meanwhile, refers to the probability of losing money when investing in a particular stock.\n",
    "\n",
    "We can connect the two - risk and volatility - by sticking with a general concept that the righer the volatility, the higher the risk of a financial asset. A simple illustration could be as follows: \n",
    "\n",
    "- Company A has a stock price of $100 which we are confident (ignore how this confidence is obtained for pragmantic purposes) will only move +/-5% in the next quarter. \n",
    "- Company B has a stock price of $100 which we are confident can move between +/- 50% in the next quarter. \n",
    "\n",
    "Albeit a very simplified example, we can see that with the added voltatility of company B there comes an added notion of risk with the asset.\n",
    "\n",
    "### Volatility Clustering\n",
    "\n",
    "We are able to capture volatility clustering -- pockets of time where volatility moves together, ie high volatility or low volatility time periods -- via modeling processes with ARCH. Thus, we can leverage these notions of risk and volatility in the hopes of making profits on assets while still abiding by the principles of the Efiicient Market Hypothesis which limits us to preoducing only trival responses to the conditional expected value of a stock at time *t* given previous observations. \n",
    "\n",
    "[include how volatility clustering is done via proof?]\n",
    "\n",
    "\n",
    "### Returns\n",
    "\n",
    "Let's take a small detour to mention the modeling of returns rather than prices. This is a convenient way to model stocks or other financial assets and as such will be important and simple to conceptualize: \n",
    "\n",
    "Let $R_t$ denote the retun of an asset at time *t*, $P_t$ denote the price of the asset at time *t*. Then we can formulate the simple one period return of an asset as follows: \n",
    "\n",
    "$R_t = \\frac{P_t - P_{t-1}}{P_{t-1}}$ \n",
    "\n",
    "The log return which is often used is denoted by the following where $r_t$ is the log return: \n",
    "\n",
    "$r_t = log(\\frac{P_t}{P_{t-1}}) = log P_t - log P_{t-1}$ "
   ]
  },
  {
   "cell_type": "code",
   "execution_count": 16,
   "metadata": {},
   "outputs": [
    {
     "data": {
      "text/html": [
       "<div>\n",
       "<style scoped>\n",
       "    .dataframe tbody tr th:only-of-type {\n",
       "        vertical-align: middle;\n",
       "    }\n",
       "\n",
       "    .dataframe tbody tr th {\n",
       "        vertical-align: top;\n",
       "    }\n",
       "\n",
       "    .dataframe thead th {\n",
       "        text-align: right;\n",
       "    }\n",
       "</style>\n",
       "<table border=\"1\" class=\"dataframe\">\n",
       "  <thead>\n",
       "    <tr style=\"text-align: right;\">\n",
       "      <th></th>\n",
       "      <th>Close</th>\n",
       "    </tr>\n",
       "    <tr>\n",
       "      <th>Date</th>\n",
       "      <th></th>\n",
       "    </tr>\n",
       "  </thead>\n",
       "  <tbody>\n",
       "    <tr>\n",
       "      <th>2010-01-04 00:00:00-05:00</th>\n",
       "      <td>NaN</td>\n",
       "    </tr>\n",
       "    <tr>\n",
       "      <th>2010-01-05 00:00:00-05:00</th>\n",
       "      <td>0.002647</td>\n",
       "    </tr>\n",
       "    <tr>\n",
       "      <th>2010-01-06 00:00:00-05:00</th>\n",
       "      <td>0.000704</td>\n",
       "    </tr>\n",
       "    <tr>\n",
       "      <th>2010-01-07 00:00:00-05:00</th>\n",
       "      <td>0.004221</td>\n",
       "    </tr>\n",
       "    <tr>\n",
       "      <th>2010-01-08 00:00:00-05:00</th>\n",
       "      <td>0.003328</td>\n",
       "    </tr>\n",
       "  </tbody>\n",
       "</table>\n",
       "</div>"
      ],
      "text/plain": [
       "                              Close\n",
       "Date                               \n",
       "2010-01-04 00:00:00-05:00       NaN\n",
       "2010-01-05 00:00:00-05:00  0.002647\n",
       "2010-01-06 00:00:00-05:00  0.000704\n",
       "2010-01-07 00:00:00-05:00  0.004221\n",
       "2010-01-08 00:00:00-05:00  0.003328"
      ]
     },
     "execution_count": 16,
     "metadata": {},
     "output_type": "execute_result"
    }
   ],
   "source": [
    "# convert prices to returns \n",
    "df = df.pct_change()\n",
    "df.head()"
   ]
  },
  {
   "attachments": {},
   "cell_type": "markdown",
   "metadata": {},
   "source": [
    "## ARCH model \n",
    "\n",
    "### Motivation & Uses\n",
    "\n",
    "We have mentioned previously that although we can not calculate the predicted price of a financial asset in the stock market due to the Efficient Market Hypothesis (EMH), we can predict volatility. Volatitlity is synonymous with a term, or symbol, we are familiar with in statistics, $\\sigma^2$. \n",
    "\n",
    "The model we will use for this is called auto-regressive conditional heteroscedastic model of order p, ARCH(p). \n",
    "\n",
    "Lets unpack the terminology a bit, specifically the heterscedastic model. Recall, in various cases we want a homoskedastic model, that is one where there is constant variance across observations. You may recall this being shown in linear modeling and in the model capabilities of ARMA(p,q). However, in this case, we specify that there is actually heteroskedasticity and, thus, non-constant variance. This generally takes the form of increasing variance as time *t* goes to $\\infty$. We are interested in modeling exactly this, how the variance changes over time *t*. \n",
    "\n",
    "### Model Statement\n",
    "\n",
    "$X_t = \\sigma_t\\epsilon_t$ with $\\sigma_t^2 = b_0 + \\sum_{j=1}^{p} b_jX^2_{t-j}$, where $\\epsilon_t$ is IID(0,1) and $b_0, b_1, \\dots, b_p \\ge 0$\n",
    "\n",
    "We then have $X_t$, the price of an asset being modeled by the sum of its squared past values $X_{t-j}^2$. If we think of $X_t$ as the returns of an asset, then $X_t^2$ is the marginal variance of the returns. Why is this the case?\n",
    "\n",
    "Recall the relationship between variance and expected value of $var(X) = E[X^2] - E[X]^2$ where we know that $E[X_t$] = 0 because of the EMH, ie that returns are 0 in the time series in expectation. Thus, $E[X_t]^2$ = 0. We are left with the marginal variance $\\sigma^2 = E[X_t^2]$\n",
    "\n",
    "This marginal variance is not what we are after though, it simply highlights a detail of the ARCH model that the marginal variance is constant and does not depend on t because of stationarity and the above. We want instead to model the volatility at time t ($\\sigma_t^2$). This volatility is directily influenced by the squared return $X_t^2$ and is the conditional variance of the time series. \n",
    "\n",
    "We can use all of the above intuitively to see that if $X_t$ swings rapidly (the return increases or decreased swiftly), $X_t^2$ is high and thus the volatility $\\sigma^2_t$ at time t is high. This is how price swings impact the volatility of an underlying asset and are modeled by ARCH effects.\n",
    "\n",
    "A small note is that the effect of these large swings  and thus changes to $X_t^2$ diminish quickly with the current model structure. The math in this can be avoided at the moment, but we can sumamrize the effect of this by saying that if there is a large swing in asset prices h days prior, the effect of this swing will decay exponentially with larger h. "
   ]
  },
  {
   "attachments": {},
   "cell_type": "markdown",
   "metadata": {},
   "source": [
    "## GARCH model \n",
    "\n",
    "\n",
    "\n",
    "### Model Statement\n",
    "\n",
    "$X_t = \\sigma_t\\epsilon_t$ with $\\sigma_t^2 = b_0 + \\sum_{j=1}^{p} b_jX^2_{t-j} + \\sum_{j=1}^{p} a_j\\sigma^2_{t-j}$, where $\\epsilon_t$ is IID(0,1) and $b_0, b_1, \\dots, b_p, a_1, a_2 \\dots, a_q \\ne 0$\n",
    "\n",
    "\n",
    "### Motivation & Uses\n",
    "\n",
    "GARCH is the generalized auto-regressive conditional heteroscedastic model of order (p,q) and is an extension of the ARCH(p) model. We notice the additional term being shown above when defining the conditional variance, volatility $\\sigma_t^2$ at time t, which allows for modeling of the conditional variance to be dependent on lagged versions of the conditional variance. That is previous values of conditional vvariance are allowed to impact the current conditional variance using a linear combination of $a_1, a_2, \\dots, a_p$ and the conditional variances at previous times. This addition to the model statement makes GARCH models more flexible and able to capture the persistence of volatility.\n",
    "\n",
    "We can thus reduce the model statement in the following way by decomposing the parts of the model into: \n",
    "\n",
    "1) ARCH effects, effects attributed to allowing for lagged squared returns $X_t^2$\n",
    "\n",
    "2) GARCH effects, effects attributed to allowing for lagged conditional variances $\\sigma^2_t$\n",
    "\n",
    "### Exploratory Data Analysis (EDA)\n",
    "\n",
    "We begin the EDA phase by plotting a trace plot of the returns over time. Some minor comments are that we can notice that there is volatility clustering in the returns over time -- notice that there are periods with more variance, illustrated by higher highs and lower lows, which group or cluster together and periods where we see less variation. "
   ]
  },
  {
   "cell_type": "code",
   "execution_count": 21,
   "metadata": {},
   "outputs": [
    {
     "data": {
      "text/plain": [
       "Text(0.5, 1.0, 'Log returns of S&P 500')"
      ]
     },
     "execution_count": 21,
     "metadata": {},
     "output_type": "execute_result"
    },
    {
     "data": {
      "image/png": "[encoded data removed]",
      "text/plain": [
       "<Figure size 576x360 with 1 Axes>"
      ]
     },
     "metadata": {
      "needs_background": "light"
     },
     "output_type": "display_data"
    }
   ],
   "source": [
    "# add trace plot\n",
    "plt.figure(figsize=(8,5))\n",
    "plt.plot(df['Close'])\n",
    "plt.ylabel(\"Log(return)\")\n",
    "plt.title('Log returns of S&P 500')"
   ]
  },
  {
   "attachments": {},
   "cell_type": "markdown",
   "metadata": {},
   "source": [
    "We then continue the EDA phase by running autocorrelation and partial autocorrelation plots to visualize how previous returns (different lags) are correlated with one another. Recall, that because of properties of stationarity, the correlation and covariance at different points in time should be the same for the same gap in time regardless of the point in time. That is, it shoudl be constant across the same gap in time and should depend only on the gap, *t-s* and not directly on *t*. As a result, we are able to construct the following plots based on different lagged values, h, and not dependent on the point in time t of the lag since they should persist for any starting point t in time. \n",
    "\n",
    "Note: as a result of using the log returns we lose the first data point since there is no intuitive way for the first point to have a return."
   ]
  },
  {
   "cell_type": "code",
   "execution_count": 47,
   "metadata": {},
   "outputs": [
    {
     "name": "stderr",
     "output_type": "stream",
     "text": [
      "/Users/danielherrera/opt/anaconda3/lib/python3.9/site-packages/statsmodels/graphics/tsaplots.py:348: FutureWarning: The default method 'yw' can produce PACF values outside of the [-1,1] interval. After 0.13, the default will change tounadjusted Yule-Walker ('ywm'). You can use this method now by setting method='ywm'.\n",
      "  warnings.warn(\n"
     ]
    },
    {
     "data": {
      "image/png": "[encoded data removed]",
      "text/plain": [
       "<Figure size 720x576 with 2 Axes>"
      ]
     },
     "metadata": {
      "needs_background": "light"
     },
     "output_type": "display_data"
    }
   ],
   "source": [
    "# Plot ACF and PACF\n",
    "diff_ts = df['Close'][1:]\n",
    "\n",
    "fig, (ax1, ax2) = plt.subplots(2, 1, figsize=(10, 8))\n",
    "plot_acf(diff_ts, ax=ax1, lags=10)\n",
    "ax1.set_ylim(-0.5, .5) \n",
    "ax1.set_title(\"Autocorrelation in Log Returns\")\n",
    "plot_pacf(diff_ts, ax=ax2, lags=10)\n",
    "ax2.set_ylim(-0.5, .5)  \n",
    "ax2.set_xlabel(\"Lag\")  \n",
    "ax2.set_title(\"Partial Autocorrelation in Log Returns\")\n",
    "\n",
    "plt.show()"
   ]
  },
  {
   "attachments": {},
   "cell_type": "markdown",
   "metadata": {},
   "source": [
    "The above ACF and PACF plots are not indicative of the pattern that we would be interested in finding for the ACF or PACF to denote that there are ARCH and GARCH effects present. In particular, we would want to see that there are reasons why we believe the series in not independent and thus we can model the ARCH effects. \n",
    "\n",
    "To ensure that this is an independent series, or rather to test that it is not, we would remember that an independent series is one in which transformations of the series would themselves be independent. Thus, we can repeat the process above using the squared returns or the absolute returns. We will utilize the absolute returns, as this is generally utilized in financial data to diminsih the effects of outliers. "
   ]
  },
  {
   "cell_type": "code",
   "execution_count": 53,
   "metadata": {},
   "outputs": [
    {
     "name": "stderr",
     "output_type": "stream",
     "text": [
      "/Users/danielherrera/opt/anaconda3/lib/python3.9/site-packages/statsmodels/graphics/tsaplots.py:348: FutureWarning: The default method 'yw' can produce PACF values outside of the [-1,1] interval. After 0.13, the default will change tounadjusted Yule-Walker ('ywm'). You can use this method now by setting method='ywm'.\n",
      "  warnings.warn(\n"
     ]
    },
    {
     "data": {
      "image/png": "[encoded data removed]",
      "text/plain": [
       "<Figure size 720x576 with 2 Axes>"
      ]
     },
     "metadata": {
      "needs_background": "light"
     },
     "output_type": "display_data"
    }
   ],
   "source": [
    "# Plot ACF and PACF of absolute returns\n",
    "abs_returns = diff_ts.abs()\n",
    "abs_returns.tail()\n",
    "\n",
    "fig, (ax1, ax2) = plt.subplots(2, 1, figsize=(10, 8))\n",
    "plot_acf(abs_returns, ax=ax1, lags=10)\n",
    "ax1.set_ylim(-.5, .5) \n",
    "ax1.set_title(\"Autocorrelation in Absolute Returns\")\n",
    "plot_pacf(abs_returns, ax=ax2, lags=10)\n",
    "ax2.set_ylim(-.5, .5)  \n",
    "ax2.set_title(\"Partial Autocorrelation in Absolute Returns\")\n",
    "ax2.set_xlabel(\"Lag\")  \n",
    "plt.show()"
   ]
  },
  {
   "attachments": {},
   "cell_type": "markdown",
   "metadata": {},
   "source": [
    "After the above transformation to absolute returns, we observe that there are ARCH effects that we can model as there are clear dependencies based on the correlations we see based on different lag values. We will more formally test these effects using the McLeod-Li test for ARCH and GARCH effects.  "
   ]
  },
  {
   "attachments": {},
   "cell_type": "markdown",
   "metadata": {},
   "source": [
    "### McLeod-Li Test\n",
    "\n",
    "The McLeod-Li test proposes the following null and alternative hypotheses to test for white noise behavior in the residuals of the series: \n",
    "\n",
    "$H_0$:  there are no autoregressive conditional heteroscedasticity (ARCH) effects in the time series\n",
    "\n",
    "$H_a$: there are ARCH effects in the time series\n",
    "\n",
    "We thus first fit a model of GARCH(1,1) and then apply the McLeod-Li test to those residuals."
   ]
  },
  {
   "cell_type": "code",
   "execution_count": 57,
   "metadata": {},
   "outputs": [
    {
     "name": "stdout",
     "output_type": "stream",
     "text": [
      "Iteration:      1,   Func. Count:      6,   Neg. LLF: 9042105910851.576\n",
      "Iteration:      2,   Func. Count:     21,   Neg. LLF: 2.0890192035332972e+26\n",
      "Iteration:      3,   Func. Count:     35,   Neg. LLF: 63212.01511805605\n",
      "Inequality constraints incompatible    (Exit mode 4)\n",
      "            Current function value: 63212.016006581405\n",
      "            Iterations: 3\n",
      "            Function evaluations: 35\n",
      "            Gradient evaluations: 3\n"
     ]
    },
    {
     "name": "stderr",
     "output_type": "stream",
     "text": [
      "/Users/danielherrera/opt/anaconda3/lib/python3.9/site-packages/arch/univariate/base.py:310: DataScaleWarning: y is poorly scaled, which may affect convergence of the optimizer when\n",
      "estimating the model parameters. The scale of y is 4.502e-05. Parameter\n",
      "estimation work better when this value is between 1 and 1000. The recommended\n",
      "rescaling is 100 * y.\n",
      "\n",
      "This warning can be disabled by either rescaling y before initializing the\n",
      "model or by setting rescale=False.\n",
      "\n",
      "  warnings.warn(\n",
      "/Users/danielherrera/opt/anaconda3/lib/python3.9/site-packages/arch/univariate/base.py:756: ConvergenceWarning: The optimizer returned code 4. The message is:\n",
      "Inequality constraints incompatible\n",
      "See scipy.optimize.fmin_slsqp for code meaning.\n",
      "\n",
      "  warnings.warn(\n"
     ]
    },
    {
     "ename": "AttributeError",
     "evalue": "'ARCHModelResult' object has no attribute 'mcleod_li'",
     "output_type": "error",
     "traceback": [
      "\u001b[0;31m---------------------------------------------------------------------------\u001b[0m",
      "\u001b[0;31mAttributeError\u001b[0m                            Traceback (most recent call last)",
      "\u001b[1;32m/Users/danielherrera/ts_project/SPYtimeseries/arch_model.ipynb Cell 15\u001b[0m in \u001b[0;36m<cell line: 6>\u001b[0;34m()\u001b[0m\n\u001b[1;32m      <a href='vscode-notebook-cell:/Users/danielherrera/ts_project/SPYtimeseries/arch_model.ipynb#X62sZmlsZQ%3D%3D?line=2'>3</a>\u001b[0m res_garch \u001b[39m=\u001b[39m garch_mod\u001b[39m.\u001b[39mfit()\n\u001b[1;32m      <a href='vscode-notebook-cell:/Users/danielherrera/ts_project/SPYtimeseries/arch_model.ipynb#X62sZmlsZQ%3D%3D?line=4'>5</a>\u001b[0m \u001b[39m# Run the McLeod-Li test\u001b[39;00m\n\u001b[0;32m----> <a href='vscode-notebook-cell:/Users/danielherrera/ts_project/SPYtimeseries/arch_model.ipynb#X62sZmlsZQ%3D%3D?line=5'>6</a>\u001b[0m mcleod_test \u001b[39m=\u001b[39m res_garch\u001b[39m.\u001b[39;49mmcleod_li()\n\u001b[1;32m      <a href='vscode-notebook-cell:/Users/danielherrera/ts_project/SPYtimeseries/arch_model.ipynb#X62sZmlsZQ%3D%3D?line=6'>7</a>\u001b[0m \u001b[39mprint\u001b[39m(mcleod_test\u001b[39m.\u001b[39msummary())\n",
      "\u001b[0;31mAttributeError\u001b[0m: 'ARCHModelResult' object has no attribute 'mcleod_li'"
     ]
    }
   ],
   "source": [
    "# fit model GARCH (1,1)\n",
    "garch_mod = arch_model(abs_returns, vol='Garch', p=1, q=1)\n",
    "res_garch = garch_mod.fit()\n",
    "\n",
    "# Run the McLeod-Li test\n",
    "mcleod_test = res_garch.mcleod_li()\n",
    "print(mcleod_test.summary())"
   ]
  },
  {
   "cell_type": "code",
   "execution_count": 58,
   "metadata": {},
   "outputs": [
    {
     "name": "stdout",
     "output_type": "stream",
     "text": [
      "Name: arch\n",
      "Version: 5.4.0\n",
      "Summary: ARCH for Python\n",
      "Home-page: https://github.com/bashtage/arch\n",
      "Author: Kevin Sheppard\n",
      "Author-email: kevin.sheppard@economics.ox.ac.uk\n",
      "License: NCSA\n",
      "Location: /Users/danielherrera/opt/anaconda3/lib/python3.9/site-packages\n",
      "Requires: pandas, statsmodels, property-cached, scipy, numpy\n",
      "Required-by: \n"
     ]
    }
   ],
   "source": [
    "!pip show arch"
   ]
  }
 ],
 "metadata": {
  "kernelspec": {
   "display_name": "base",
   "language": "python",
   "name": "python3"
  },
  "language_info": {
   "codemirror_mode": {
    "name": "ipython",
    "version": 3
   },
   "file_extension": ".py",
   "mimetype": "text/x-python",
   "name": "python",
   "nbconvert_exporter": "python",
   "pygments_lexer": "ipython3",
   "version": "3.9.12"
  },
  "orig_nbformat": 4
 },
 "nbformat": 4,
 "nbformat_minor": 2
}
